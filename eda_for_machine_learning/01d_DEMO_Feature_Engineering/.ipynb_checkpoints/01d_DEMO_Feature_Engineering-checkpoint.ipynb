{
 "cells": [
  {
   "cell_type": "markdown",
   "metadata": {},
   "source": [
    "# Machine Learning Foundation\n",
    "\n",
    "## Section 1, Part d: Feature Engineering "
   ]
  },
  {
   "cell_type": "markdown",
   "metadata": {},
   "source": [
    "## Feature Engineering with Linear Regression: Applied to the Ames Housing Data\n",
    "\n",
    "Using the Ames Housing Data:\n",
    "\n",
    "Dean De Cock\n",
    "Truman State University\n",
    "Journal of Statistics Education Volume 19, Number 3(2011), www.amstat.org/publications/jse/v19n3/decock.pdf\n",
    "\n",
    "In this notebook, we will build some linear regression models to predict housing prices from this data. In particular, we will set out to improve on a baseline set of features via **feature engineering**: deriving new features from our existing data. Feature engineering often makes the difference between a weak model and a strong one.\n",
    "\n",
    "We will use visual exploration, domain understanding, and intuition to construct new features that will be useful later in the course as we turn to prediction.\n",
    "\n",
    "**Notebook Contents**\n",
    "\n",
    "> 1. Simple EDA \n",
    "> 2. One-hot Encoding variables\n",
    "> 3. Log transformation for skewed variables\n",
    "> 4. Pair plot for features\n",
    "> 5. Basic feature engineering: adding polynomial and interaction terms\n",
    "> 6. Feature engineering: categories and features derived from category aggregates \n",
    "\n",
    "## 1. Simple EDA "
   ]
  },
  {
   "cell_type": "code",
   "execution_count": 2,
   "metadata": {},
   "outputs": [
    {
     "name": "stdout",
     "output_type": "stream",
     "text": [
      "%pylab is deprecated, use %matplotlib inline and import the required libraries.\n",
      "Populating the interactive namespace from numpy and matplotlib\n"
     ]
    }
   ],
   "source": [
    "%pylab inline\n",
    "%config InlineBackend.figure_formats = ['retina']\n",
    "\n",
    "import pandas as pd\n",
    "import seaborn as sns\n",
    "sns.set()"
   ]
  },
  {
   "cell_type": "markdown",
   "metadata": {},
   "source": [
    "#### Load the Data, Examine and Explore"
   ]
  },
  {
   "cell_type": "code",
   "execution_count": 3,
   "metadata": {},
   "outputs": [],
   "source": [
    "## Load in the Ames Housing Data\n",
    "datafile = \"data/Ames_Housing_Data.tsv\"\n",
    "df = pd.read_csv(datafile, sep='\\t')"
   ]
  },
  {
   "cell_type": "code",
   "execution_count": 4,
   "metadata": {},
   "outputs": [
    {
     "name": "stdout",
     "output_type": "stream",
     "text": [
      "<class 'pandas.core.frame.DataFrame'>\n",
      "RangeIndex: 2930 entries, 0 to 2929\n",
      "Data columns (total 82 columns):\n",
      " #   Column           Non-Null Count  Dtype  \n",
      "---  ------           --------------  -----  \n",
      " 0   Order            2930 non-null   int64  \n",
      " 1   PID              2930 non-null   int64  \n",
      " 2   MS SubClass      2930 non-null   int64  \n",
      " 3   MS Zoning        2930 non-null   object \n",
      " 4   Lot Frontage     2440 non-null   float64\n",
      " 5   Lot Area         2930 non-null   int64  \n",
      " 6   Street           2930 non-null   object \n",
      " 7   Alley            198 non-null    object \n",
      " 8   Lot Shape        2930 non-null   object \n",
      " 9   Land Contour     2930 non-null   object \n",
      " 10  Utilities        2930 non-null   object \n",
      " 11  Lot Config       2930 non-null   object \n",
      " 12  Land Slope       2930 non-null   object \n",
      " 13  Neighborhood     2930 non-null   object \n",
      " 14  Condition 1      2930 non-null   object \n",
      " 15  Condition 2      2930 non-null   object \n",
      " 16  Bldg Type        2930 non-null   object \n",
      " 17  House Style      2930 non-null   object \n",
      " 18  Overall Qual     2930 non-null   int64  \n",
      " 19  Overall Cond     2930 non-null   int64  \n",
      " 20  Year Built       2930 non-null   int64  \n",
      " 21  Year Remod/Add   2930 non-null   int64  \n",
      " 22  Roof Style       2930 non-null   object \n",
      " 23  Roof Matl        2930 non-null   object \n",
      " 24  Exterior 1st     2930 non-null   object \n",
      " 25  Exterior 2nd     2930 non-null   object \n",
      " 26  Mas Vnr Type     1155 non-null   object \n",
      " 27  Mas Vnr Area     2907 non-null   float64\n",
      " 28  Exter Qual       2930 non-null   object \n",
      " 29  Exter Cond       2930 non-null   object \n",
      " 30  Foundation       2930 non-null   object \n",
      " 31  Bsmt Qual        2850 non-null   object \n",
      " 32  Bsmt Cond        2850 non-null   object \n",
      " 33  Bsmt Exposure    2847 non-null   object \n",
      " 34  BsmtFin Type 1   2850 non-null   object \n",
      " 35  BsmtFin SF 1     2929 non-null   float64\n",
      " 36  BsmtFin Type 2   2849 non-null   object \n",
      " 37  BsmtFin SF 2     2929 non-null   float64\n",
      " 38  Bsmt Unf SF      2929 non-null   float64\n",
      " 39  Total Bsmt SF    2929 non-null   float64\n",
      " 40  Heating          2930 non-null   object \n",
      " 41  Heating QC       2930 non-null   object \n",
      " 42  Central Air      2930 non-null   object \n",
      " 43  Electrical       2929 non-null   object \n",
      " 44  1st Flr SF       2930 non-null   int64  \n",
      " 45  2nd Flr SF       2930 non-null   int64  \n",
      " 46  Low Qual Fin SF  2930 non-null   int64  \n",
      " 47  Gr Liv Area      2930 non-null   int64  \n",
      " 48  Bsmt Full Bath   2928 non-null   float64\n",
      " 49  Bsmt Half Bath   2928 non-null   float64\n",
      " 50  Full Bath        2930 non-null   int64  \n",
      " 51  Half Bath        2930 non-null   int64  \n",
      " 52  Bedroom AbvGr    2930 non-null   int64  \n",
      " 53  Kitchen AbvGr    2930 non-null   int64  \n",
      " 54  Kitchen Qual     2930 non-null   object \n",
      " 55  TotRms AbvGrd    2930 non-null   int64  \n",
      " 56  Functional       2930 non-null   object \n",
      " 57  Fireplaces       2930 non-null   int64  \n",
      " 58  Fireplace Qu     1508 non-null   object \n",
      " 59  Garage Type      2773 non-null   object \n",
      " 60  Garage Yr Blt    2771 non-null   float64\n",
      " 61  Garage Finish    2771 non-null   object \n",
      " 62  Garage Cars      2929 non-null   float64\n",
      " 63  Garage Area      2929 non-null   float64\n",
      " 64  Garage Qual      2771 non-null   object \n",
      " 65  Garage Cond      2771 non-null   object \n",
      " 66  Paved Drive      2930 non-null   object \n",
      " 67  Wood Deck SF     2930 non-null   int64  \n",
      " 68  Open Porch SF    2930 non-null   int64  \n",
      " 69  Enclosed Porch   2930 non-null   int64  \n",
      " 70  3Ssn Porch       2930 non-null   int64  \n",
      " 71  Screen Porch     2930 non-null   int64  \n",
      " 72  Pool Area        2930 non-null   int64  \n",
      " 73  Pool QC          13 non-null     object \n",
      " 74  Fence            572 non-null    object \n",
      " 75  Misc Feature     106 non-null    object \n",
      " 76  Misc Val         2930 non-null   int64  \n",
      " 77  Mo Sold          2930 non-null   int64  \n",
      " 78  Yr Sold          2930 non-null   int64  \n",
      " 79  Sale Type        2930 non-null   object \n",
      " 80  Sale Condition   2930 non-null   object \n",
      " 81  SalePrice        2930 non-null   int64  \n",
      "dtypes: float64(11), int64(28), object(43)\n",
      "memory usage: 1.8+ MB\n"
     ]
    }
   ],
   "source": [
    "## Examine the columns, look at missing data\n",
    "df.info()"
   ]
  },
  {
   "cell_type": "code",
   "execution_count": 5,
   "metadata": {},
   "outputs": [
    {
     "data": {
      "text/plain": [
       "<Axes: >"
      ]
     },
     "execution_count": 5,
     "metadata": {},
     "output_type": "execute_result"
    },
    {
     "data": {
      "image/png": "[encoded data removed]",
      "text/plain": [
       "<Figure size 640x480 with 1 Axes>"
      ]
     },
     "metadata": {
      "image/png": {
       "height": 417,
       "width": 563
      }
     },
     "output_type": "display_data"
    }
   ],
   "source": [
    "df['Gr Liv Area'].hist()"
   ]
  },
  {
   "cell_type": "code",
   "execution_count": 6,
   "metadata": {},
   "outputs": [
    {
     "name": "stdout",
     "output_type": "stream",
     "text": [
      "Number of rows in the data: 2925\n",
      "Number of columns in the data: 82\n"
     ]
    }
   ],
   "source": [
    "# This is recommended by the data set author to remove a few outliers\n",
    "\n",
    "df = df.loc[df['Gr Liv Area'] <= 4000,:]\n",
    "print(\"Number of rows in the data:\", df.shape[0])\n",
    "print(\"Number of columns in the data:\", df.shape[1])\n",
    "data = df.copy() # Keep a copy our original data "
   ]
  },
  {
   "cell_type": "code",
   "execution_count": 7,
   "metadata": {},
   "outputs": [
    {
     "data": {
      "text/html": [
       "<div>\n",
       "<style scoped>\n",
       "    .dataframe tbody tr th:only-of-type {\n",
       "        vertical-align: middle;\n",
       "    }\n",
       "\n",
       "    .dataframe tbody tr th {\n",
       "        vertical-align: top;\n",
       "    }\n",
       "\n",
       "    .dataframe thead th {\n",
       "        text-align: right;\n",
       "    }\n",
       "</style>\n",
       "<table border=\"1\" class=\"dataframe\">\n",
       "  <thead>\n",
       "    <tr style=\"text-align: right;\">\n",
       "      <th></th>\n",
       "      <th>Order</th>\n",
       "      <th>PID</th>\n",
       "      <th>MS SubClass</th>\n",
       "      <th>MS Zoning</th>\n",
       "      <th>Lot Frontage</th>\n",
       "      <th>Lot Area</th>\n",
       "      <th>Street</th>\n",
       "      <th>Alley</th>\n",
       "      <th>Lot Shape</th>\n",
       "      <th>Land Contour</th>\n",
       "      <th>...</th>\n",
       "      <th>Pool Area</th>\n",
       "      <th>Pool QC</th>\n",
       "      <th>Fence</th>\n",
       "      <th>Misc Feature</th>\n",
       "      <th>Misc Val</th>\n",
       "      <th>Mo Sold</th>\n",
       "      <th>Yr Sold</th>\n",
       "      <th>Sale Type</th>\n",
       "      <th>Sale Condition</th>\n",
       "      <th>SalePrice</th>\n",
       "    </tr>\n",
       "  </thead>\n",
       "  <tbody>\n",
       "    <tr>\n",
       "      <th>0</th>\n",
       "      <td>1</td>\n",
       "      <td>526301100</td>\n",
       "      <td>20</td>\n",
       "      <td>RL</td>\n",
       "      <td>141.0</td>\n",
       "      <td>31770</td>\n",
       "      <td>Pave</td>\n",
       "      <td>NaN</td>\n",
       "      <td>IR1</td>\n",
       "      <td>Lvl</td>\n",
       "      <td>...</td>\n",
       "      <td>0</td>\n",
       "      <td>NaN</td>\n",
       "      <td>NaN</td>\n",
       "      <td>NaN</td>\n",
       "      <td>0</td>\n",
       "      <td>5</td>\n",
       "      <td>2010</td>\n",
       "      <td>WD</td>\n",
       "      <td>Normal</td>\n",
       "      <td>215000</td>\n",
       "    </tr>\n",
       "    <tr>\n",
       "      <th>1</th>\n",
       "      <td>2</td>\n",
       "      <td>526350040</td>\n",
       "      <td>20</td>\n",
       "      <td>RH</td>\n",
       "      <td>80.0</td>\n",
       "      <td>11622</td>\n",
       "      <td>Pave</td>\n",
       "      <td>NaN</td>\n",
       "      <td>Reg</td>\n",
       "      <td>Lvl</td>\n",
       "      <td>...</td>\n",
       "      <td>0</td>\n",
       "      <td>NaN</td>\n",
       "      <td>MnPrv</td>\n",
       "      <td>NaN</td>\n",
       "      <td>0</td>\n",
       "      <td>6</td>\n",
       "      <td>2010</td>\n",
       "      <td>WD</td>\n",
       "      <td>Normal</td>\n",
       "      <td>105000</td>\n",
       "    </tr>\n",
       "    <tr>\n",
       "      <th>2</th>\n",
       "      <td>3</td>\n",
       "      <td>526351010</td>\n",
       "      <td>20</td>\n",
       "      <td>RL</td>\n",
       "      <td>81.0</td>\n",
       "      <td>14267</td>\n",
       "      <td>Pave</td>\n",
       "      <td>NaN</td>\n",
       "      <td>IR1</td>\n",
       "      <td>Lvl</td>\n",
       "      <td>...</td>\n",
       "      <td>0</td>\n",
       "      <td>NaN</td>\n",
       "      <td>NaN</td>\n",
       "      <td>Gar2</td>\n",
       "      <td>12500</td>\n",
       "      <td>6</td>\n",
       "      <td>2010</td>\n",
       "      <td>WD</td>\n",
       "      <td>Normal</td>\n",
       "      <td>172000</td>\n",
       "    </tr>\n",
       "    <tr>\n",
       "      <th>3</th>\n",
       "      <td>4</td>\n",
       "      <td>526353030</td>\n",
       "      <td>20</td>\n",
       "      <td>RL</td>\n",
       "      <td>93.0</td>\n",
       "      <td>11160</td>\n",
       "      <td>Pave</td>\n",
       "      <td>NaN</td>\n",
       "      <td>Reg</td>\n",
       "      <td>Lvl</td>\n",
       "      <td>...</td>\n",
       "      <td>0</td>\n",
       "      <td>NaN</td>\n",
       "      <td>NaN</td>\n",
       "      <td>NaN</td>\n",
       "      <td>0</td>\n",
       "      <td>4</td>\n",
       "      <td>2010</td>\n",
       "      <td>WD</td>\n",
       "      <td>Normal</td>\n",
       "      <td>244000</td>\n",
       "    </tr>\n",
       "    <tr>\n",
       "      <th>4</th>\n",
       "      <td>5</td>\n",
       "      <td>527105010</td>\n",
       "      <td>60</td>\n",
       "      <td>RL</td>\n",
       "      <td>74.0</td>\n",
       "      <td>13830</td>\n",
       "      <td>Pave</td>\n",
       "      <td>NaN</td>\n",
       "      <td>IR1</td>\n",
       "      <td>Lvl</td>\n",
       "      <td>...</td>\n",
       "      <td>0</td>\n",
       "      <td>NaN</td>\n",
       "      <td>MnPrv</td>\n",
       "      <td>NaN</td>\n",
       "      <td>0</td>\n",
       "      <td>3</td>\n",
       "      <td>2010</td>\n",
       "      <td>WD</td>\n",
       "      <td>Normal</td>\n",
       "      <td>189900</td>\n",
       "    </tr>\n",
       "  </tbody>\n",
       "</table>\n",
       "<p>5 rows × 82 columns</p>\n",
       "</div>"
      ],
      "text/plain": [
       "   Order        PID  MS SubClass MS Zoning  Lot Frontage  Lot Area Street  \\\n",
       "0      1  526301100           20        RL         141.0     31770   Pave   \n",
       "1      2  526350040           20        RH          80.0     11622   Pave   \n",
       "2      3  526351010           20        RL          81.0     14267   Pave   \n",
       "3      4  526353030           20        RL          93.0     11160   Pave   \n",
       "4      5  527105010           60        RL          74.0     13830   Pave   \n",
       "\n",
       "  Alley Lot Shape Land Contour  ... Pool Area Pool QC  Fence Misc Feature  \\\n",
       "0   NaN       IR1          Lvl  ...         0     NaN    NaN          NaN   \n",
       "1   NaN       Reg          Lvl  ...         0     NaN  MnPrv          NaN   \n",
       "2   NaN       IR1          Lvl  ...         0     NaN    NaN         Gar2   \n",
       "3   NaN       Reg          Lvl  ...         0     NaN    NaN          NaN   \n",
       "4   NaN       IR1          Lvl  ...         0     NaN  MnPrv          NaN   \n",
       "\n",
       "  Misc Val Mo Sold Yr Sold Sale Type  Sale Condition  SalePrice  \n",
       "0        0       5    2010       WD           Normal     215000  \n",
       "1        0       6    2010       WD           Normal     105000  \n",
       "2    12500       6    2010       WD           Normal     172000  \n",
       "3        0       4    2010       WD           Normal     244000  \n",
       "4        0       3    2010       WD           Normal     189900  \n",
       "\n",
       "[5 rows x 82 columns]"
      ]
     },
     "execution_count": 7,
     "metadata": {},
     "output_type": "execute_result"
    }
   ],
   "source": [
    "# A quick look at the data:\n",
    "df.head()"
   ]
  },
  {
   "cell_type": "code",
   "execution_count": 8,
   "metadata": {},
   "outputs": [
    {
     "data": {
      "text/plain": [
       "2925"
      ]
     },
     "execution_count": 8,
     "metadata": {},
     "output_type": "execute_result"
    }
   ],
   "source": [
    "len(df.PID.unique())"
   ]
  },
  {
   "cell_type": "code",
   "execution_count": 9,
   "metadata": {},
   "outputs": [],
   "source": [
    "df.drop(['PID', 'Order'], axis=1, inplace=True)"
   ]
  },
  {
   "cell_type": "code",
   "execution_count": 10,
   "metadata": {},
   "outputs": [
    {
     "data": {
      "text/plain": [
       "Index(['MS SubClass', 'Lot Frontage', 'Lot Area', 'Overall Qual',\n",
       "       'Overall Cond', 'Year Built', 'Year Remod/Add', 'Mas Vnr Area',\n",
       "       'BsmtFin SF 1', 'BsmtFin SF 2', 'Bsmt Unf SF', 'Total Bsmt SF',\n",
       "       '1st Flr SF', '2nd Flr SF', 'Low Qual Fin SF', 'Gr Liv Area',\n",
       "       'Bsmt Full Bath', 'Bsmt Half Bath', 'Full Bath', 'Half Bath',\n",
       "       'Bedroom AbvGr', 'Kitchen AbvGr', 'TotRms AbvGrd', 'Fireplaces',\n",
       "       'Garage Yr Blt', 'Garage Cars', 'Garage Area', 'Wood Deck SF',\n",
       "       'Open Porch SF', 'Enclosed Porch', '3Ssn Porch', 'Screen Porch',\n",
       "       'Pool Area', 'Misc Val', 'Mo Sold', 'Yr Sold', 'SalePrice'],\n",
       "      dtype='object')"
      ]
     },
     "execution_count": 10,
     "metadata": {},
     "output_type": "execute_result"
    }
   ],
   "source": [
    "df.select_dtypes('number').columns"
   ]
  },
  {
   "cell_type": "code",
   "execution_count": 11,
   "metadata": {},
   "outputs": [],
   "source": [
    "num_cols = df.select_dtypes('number').columns\n",
    "\n",
    "skew_limit = 0.75 # define a limit above which we will log transform\n",
    "skew_vals = df[num_cols].skew()"
   ]
  },
  {
   "cell_type": "code",
   "execution_count": 12,
   "metadata": {},
   "outputs": [
    {
     "data": {
      "text/plain": [
       "MS SubClass         1.356549\n",
       "Lot Frontage        1.111071\n",
       "Lot Area           13.200004\n",
       "Overall Qual        0.171657\n",
       "Overall Cond        0.572769\n",
       "Year Built         -0.602475\n",
       "Year Remod/Add     -0.449567\n",
       "Mas Vnr Area        2.565458\n",
       "BsmtFin SF 1        0.821985\n",
       "BsmtFin SF 2        4.135900\n",
       "Bsmt Unf SF         0.925021\n",
       "Total Bsmt SF       0.399079\n",
       "1st Flr SF          0.942615\n",
       "2nd Flr SF          0.847517\n",
       "Low Qual Fin SF    12.107629\n",
       "Gr Liv Area         0.878879\n",
       "Bsmt Full Bath      0.615553\n",
       "Bsmt Half Bath      3.965970\n",
       "Full Bath           0.164954\n",
       "Half Bath           0.702966\n",
       "Bedroom AbvGr       0.306912\n",
       "Kitchen AbvGr       4.309573\n",
       "TotRms AbvGrd       0.704992\n",
       "Fireplaces          0.732312\n",
       "Garage Yr Blt      -0.382039\n",
       "Garage Cars        -0.219734\n",
       "Garage Area         0.213681\n",
       "Wood Deck SF        1.848286\n",
       "Open Porch SF       2.495162\n",
       "Enclosed Porch      4.010586\n",
       "3Ssn Porch         11.393854\n",
       "Screen Porch        3.953495\n",
       "Pool Area          18.743766\n",
       "Misc Val           22.225015\n",
       "Mo Sold             0.195773\n",
       "Yr Sold             0.132843\n",
       "SalePrice           1.591072\n",
       "dtype: float64"
      ]
     },
     "execution_count": 12,
     "metadata": {},
     "output_type": "execute_result"
    }
   ],
   "source": [
    "skew_vals"
   ]
  },
  {
   "cell_type": "code",
   "execution_count": 13,
   "metadata": {},
   "outputs": [],
   "source": [
    "skew_cols = skew_vals[abs(skew_vals)>skew_limit].sort_values(ascending=False)"
   ]
  },
  {
   "cell_type": "code",
   "execution_count": 14,
   "metadata": {},
   "outputs": [
    {
     "data": {
      "text/plain": [
       "Misc Val           22.225015\n",
       "Pool Area          18.743766\n",
       "Lot Area           13.200004\n",
       "Low Qual Fin SF    12.107629\n",
       "3Ssn Porch         11.393854\n",
       "Kitchen AbvGr       4.309573\n",
       "BsmtFin SF 2        4.135900\n",
       "Enclosed Porch      4.010586\n",
       "Bsmt Half Bath      3.965970\n",
       "Screen Porch        3.953495\n",
       "Mas Vnr Area        2.565458\n",
       "Open Porch SF       2.495162\n",
       "Wood Deck SF        1.848286\n",
       "SalePrice           1.591072\n",
       "MS SubClass         1.356549\n",
       "Lot Frontage        1.111071\n",
       "1st Flr SF          0.942615\n",
       "Bsmt Unf SF         0.925021\n",
       "Gr Liv Area         0.878879\n",
       "2nd Flr SF          0.847517\n",
       "BsmtFin SF 1        0.821985\n",
       "dtype: float64"
      ]
     },
     "execution_count": 14,
     "metadata": {},
     "output_type": "execute_result"
    }
   ],
   "source": [
    "skew_cols"
   ]
  },
  {
   "cell_type": "code",
   "execution_count": 15,
   "metadata": {},
   "outputs": [
    {
     "data": {
      "text/plain": [
       "<Axes: >"
      ]
     },
     "execution_count": 15,
     "metadata": {},
     "output_type": "execute_result"
    },
    {
     "data": {
      "image/png": "[encoded data removed]",
      "text/plain": [
       "<Figure size 1000x500 with 2 Axes>"
      ]
     },
     "metadata": {
      "image/png": {
       "height": 432,
       "width": 842
      }
     },
     "output_type": "display_data"
    }
   ],
   "source": [
    "fig, (ax_before, ax_after) = plt.subplots(1, 2, figsize=(10, 5))\n",
    "df['SalePrice'].hist(ax=ax_before)\n",
    "df['SalePrice'].apply(np.log1p).hist(ax=ax_after)"
   ]
  },
  {
   "cell_type": "code",
   "execution_count": 16,
   "metadata": {},
   "outputs": [
    {
     "data": {
      "image/png": "[encoded data removed]",
      "text/plain": [
       "<Figure size 1000x500 with 2 Axes>"
      ]
     },
     "metadata": {
      "image/png": {
       "height": 503,
       "width": 863
      }
     },
     "output_type": "display_data"
    }
   ],
   "source": [
    "# Let's look at what happens to one of these features, when we apply np.log1p visually.\n",
    "\n",
    "# Choose a field\n",
    "field = \"SalePrice\"\n",
    "\n",
    "# Create two \"subplots\" and a \"figure\" using matplotlib\n",
    "fig, (ax_before, ax_after) = plt.subplots(1, 2, figsize=(10, 5))\n",
    "\n",
    "# Create a histogram on the \"ax_before\" subplot\n",
    "df[field].hist(ax=ax_before)\n",
    "\n",
    "# Apply a log transformation (numpy syntax) to this column\n",
    "df[field].apply(np.log1p).hist(ax=ax_after)\n",
    "\n",
    "# Formatting of titles etc. for each subplot\n",
    "ax_before.set(title='before np.log1p', ylabel='frequency', xlabel='value')\n",
    "ax_after.set(title='after np.log1p', ylabel='frequency', xlabel='value')\n",
    "fig.suptitle('Field \"{}\"'.format(field));"
   ]
  },
  {
   "cell_type": "code",
   "execution_count": null,
   "metadata": {},
   "outputs": [],
   "source": [
    "# Perform the skew transformation:\n",
    "\n",
    "for col in skew_cols.index.values:\n",
    "    if col == \"SalePrice\":\n",
    "        continue\n",
    "    df[col] = df[col].apply(np.log1p)"
   ]
  },
  {
   "cell_type": "markdown",
   "metadata": {},
   "source": [
    "We're going to first do some basic data cleaning on this data: \n",
    "\n",
    "* Converting categorical variables to dummies\n",
    "* Making skew variables symmetric\n",
    "\n",
    "### One-hot encoding for dummy variables:"
   ]
  },
  {
   "cell_type": "code",
   "execution_count": null,
   "metadata": {},
   "outputs": [],
   "source": [
    "# Get a Pd.Series consisting of all the string categoricals\n",
    "one_hot_encode_cols = df.dtypes[df.dtypes == np.object]  # filtering by string categoricals\n",
    "one_hot_encode_cols = one_hot_encode_cols.index.tolist()  # list of categorical fields\n",
    "\n",
    "df[one_hot_encode_cols].head().T"
   ]
  },
  {
   "cell_type": "markdown",
   "metadata": {},
   "source": [
    "We're going to first do some basic data cleaning on this data: \n",
    "\n",
    "* Converting categorical variables to dummies\n",
    "* Making skew variables symmetric\n",
    "\n",
    "#### One-hot encoding the dummy variables:"
   ]
  },
  {
   "cell_type": "code",
   "execution_count": null,
   "metadata": {},
   "outputs": [],
   "source": [
    "# Do the one hot encoding\n",
    "df = pd.get_dummies(df, columns=one_hot_encode_cols, drop_first=True)\n",
    "df.describe().T"
   ]
  },
  {
   "cell_type": "markdown",
   "metadata": {},
   "source": [
    "### Log transforming skew variables"
   ]
  },
  {
   "cell_type": "code",
   "execution_count": null,
   "metadata": {},
   "outputs": [],
   "source": [
    "# Create a list of float colums to check for skewing\n",
    "mask = data.dtypes == np.float\n",
    "float_cols = data.columns[mask]\n",
    "\n",
    "skew_limit = 0.75 # define a limit above which we will log transform\n",
    "skew_vals = data[float_cols].skew()"
   ]
  },
  {
   "cell_type": "code",
   "execution_count": null,
   "metadata": {},
   "outputs": [],
   "source": [
    "# Showing the skewed columns\n",
    "skew_cols = (skew_vals\n",
    "             .sort_values(ascending=False)\n",
    "             .to_frame()\n",
    "             .rename(columns={0:'Skew'})\n",
    "             .query('abs(Skew) > {}'.format(skew_limit)))\n",
    "\n",
    "skew_cols"
   ]
  },
  {
   "cell_type": "code",
   "execution_count": null,
   "metadata": {},
   "outputs": [],
   "source": []
  },
  {
   "cell_type": "code",
   "execution_count": null,
   "metadata": {},
   "outputs": [],
   "source": [
    "# We now have a larger set of potentially-useful features\n",
    "df.shape"
   ]
  },
  {
   "cell_type": "code",
   "execution_count": null,
   "metadata": {},
   "outputs": [],
   "source": [
    "# There are a *lot* of variables. Let's go back to our saved original data and look at how many values are missing for each variable. \n",
    "df = data\n",
    "data.isnull().sum().sort_values()"
   ]
  },
  {
   "cell_type": "markdown",
   "metadata": {},
   "source": [
    " Let's pick out just a few numeric columns to illustrate basic feature transformations."
   ]
  },
  {
   "cell_type": "code",
   "execution_count": null,
   "metadata": {},
   "outputs": [],
   "source": [
    "smaller_df= df.loc[:,['Lot Area', 'Overall Qual', 'Overall Cond', \n",
    "                      'Year Built', 'Year Remod/Add', 'Gr Liv Area', \n",
    "                      'Full Bath', 'Bedroom AbvGr', 'Fireplaces', \n",
    "                      'Garage Cars','SalePrice']]"
   ]
  },
  {
   "cell_type": "code",
   "execution_count": null,
   "metadata": {},
   "outputs": [],
   "source": [
    "# Now we can look at summary statistics of the subset data\n",
    "smaller_df.describe().T"
   ]
  },
  {
   "cell_type": "code",
   "execution_count": null,
   "metadata": {},
   "outputs": [],
   "source": [
    "smaller_df.info()"
   ]
  },
  {
   "cell_type": "code",
   "execution_count": null,
   "metadata": {},
   "outputs": [],
   "source": [
    "# There appears to be one NA in Garage Cars - we will take a simple approach and fill it with 0\n",
    "smaller_df = smaller_df.fillna(0)"
   ]
  },
  {
   "cell_type": "code",
   "execution_count": null,
   "metadata": {},
   "outputs": [],
   "source": [
    "smaller_df.info()"
   ]
  },
  {
   "cell_type": "markdown",
   "metadata": {},
   "source": [
    "\n",
    "### Pair plot of features\n",
    "Now that we have a nice, filtered dataset, let's generate visuals to better understand the target and feature-target relationships: pairplot is great for this!"
   ]
  },
  {
   "cell_type": "code",
   "execution_count": null,
   "metadata": {},
   "outputs": [],
   "source": [
    "sns.pairplot(smaller_df, plot_kws=dict(alpha=.1, edgecolor='none'))"
   ]
  },
  {
   "cell_type": "markdown",
   "metadata": {},
   "source": [
    "---\n",
    "**Data Exploration Discussion**: \n",
    "\n",
    "1. What do these plots tell us about the distribution of the target?   \n",
    "\n",
    "2. What do these plots tell us about the relationship between the features and the target? Do you think that linear regression is well-suited to this problem? Do any feature transformations come to mind?\n",
    "\n",
    "3. What do these plots tell us about the relationship between various pairs of features? Do you think there may be any problems here? \n",
    "\n",
    "---"
   ]
  },
  {
   "cell_type": "markdown",
   "metadata": {},
   "source": [
    "#### Suppose our target variable is the SalePrice. We can set up separate variables for features and target."
   ]
  },
  {
   "cell_type": "code",
   "execution_count": null,
   "metadata": {},
   "outputs": [],
   "source": [
    "#Separate our features from our target\n",
    "\n",
    "X = smaller_df.loc[:,['Lot Area', 'Overall Qual', 'Overall Cond', \n",
    "                      'Year Built', 'Year Remod/Add', 'Gr Liv Area', \n",
    "                      'Full Bath', 'Bedroom AbvGr', 'Fireplaces', \n",
    "                      'Garage Cars']]\n",
    "\n",
    "y = smaller_df['SalePrice']"
   ]
  },
  {
   "cell_type": "code",
   "execution_count": null,
   "metadata": {},
   "outputs": [],
   "source": [
    "X.info()"
   ]
  },
  {
   "cell_type": "markdown",
   "metadata": {},
   "source": [
    "Now that we have feature/target data X, y ready to go, we're nearly ready to fit and evaluate a baseline model using our current feature set. We'll need to create a **train/validation split** before we fit and score the model. \n",
    "\n",
    "Since we'll be repeatedly splitting X, y into the same train/val partitions and fitting/scoring new models as we update our feature set, we'll define a reusable function that completes all these steps, making our code/process more efficient going forward. "
   ]
  },
  {
   "cell_type": "markdown",
   "metadata": {},
   "source": [
    "Great, let's go ahead and run this function on our baseline feature set and take some time to analyze the results."
   ]
  },
  {
   "cell_type": "markdown",
   "metadata": {},
   "source": [
    "### Basic feature engineering: adding polynomial and interaction terms"
   ]
  },
  {
   "cell_type": "markdown",
   "metadata": {},
   "source": [
    "One of the first things that we looked for in the pairplot was evidence about the relationship between each feature and the target. In certain features like _'Overall Qual'_ and _'Gr Liv Qual'_, we notice an upward-curved relationship rather than a simple linear correspondence. This suggests that we should add quadratic **polynomial terms or transformations** for those features, allowing us to express that non-linear relationship while still using linear regression as our model.\n",
    "\n",
    "Luckily, pandas makes it quite easy to quickly add those square terms as additional features to our original feature set. We'll do so and evaluate our model again below.\n",
    "\n",
    "As we add to our baseline set of features, we'll create a copy of the latest benchmark so that we can continue to store our older feature sets. \n",
    "### Polynomial Features"
   ]
  },
  {
   "cell_type": "code",
   "execution_count": null,
   "metadata": {},
   "outputs": [],
   "source": [
    "X2 = X.copy()\n",
    "\n",
    "X2['OQ2'] = X2['Overall Qual'] ** 2\n",
    "X2['GLA2'] = X2['Gr Liv Area'] ** 2\n"
   ]
  },
  {
   "cell_type": "markdown",
   "metadata": {},
   "source": [
    "As is, each feature is treated as an independent quantity. However, there may be **interaction effects**, in which the impact of one feature may dependent on the current value of a different feature.\n",
    "\n",
    "For example, there may be a higher premium for increasing _'Overall Qual'_ for houses that were built more recently. If such a premium or a similar effect exists, a feature that multiplies _'Overall Qual'_ by _'Year Built'_ can help us capture it.\n",
    "\n",
    "Another style of interaction term involves feature proprtions: for example, to get at something like quality per square foot we could divide _'Overall Qual'_ by _'Lot Area'_.\n",
    "\n",
    "Let's try adding both of these interaction terms and see how they impact the model results.\n",
    "\n",
    "### Feature interactions"
   ]
  },
  {
   "cell_type": "code",
   "execution_count": null,
   "metadata": {},
   "outputs": [],
   "source": [
    "X3 = X2.copy()\n",
    "\n",
    "# multiplicative interaction\n",
    "X3['OQ_x_YB'] = X3['Overall Qual'] * X3['Year Built']\n",
    "\n",
    "# division interaction\n",
    "X3['OQ_/_LA'] = X3['Overall Qual'] / X3['Lot Area']\n",
    "\n"
   ]
  },
  {
   "cell_type": "markdown",
   "metadata": {},
   "source": [
    "-----\n",
    "**Interaction Feature Exercise**: What other interactions do you think might be helpful? Why? \n",
    "\n",
    "-----"
   ]
  },
  {
   "cell_type": "markdown",
   "metadata": {},
   "source": [
    "### Categories and features derived from category aggregates "
   ]
  },
  {
   "cell_type": "markdown",
   "metadata": {},
   "source": [
    "Incorporating **categorical features** into linear regression models is fairly straightforward: we can create a new feature column for each category value, and fill these columns with 1s and 0s to indicate which category is present for each row. This method is called **dummy variables** or **one-hot-encoding**.\n",
    "\n",
    "We'll first explore this using the _'House Style'_ feature from the original dataframe. Before going straight to dummy variables, it's a good idea to check category counts to make sure all categories have reasonable representation."
   ]
  },
  {
   "cell_type": "code",
   "execution_count": null,
   "metadata": {},
   "outputs": [],
   "source": [
    "data['House Style'].value_counts()"
   ]
  },
  {
   "cell_type": "markdown",
   "metadata": {},
   "source": [
    "This looks ok, and here's a quick look at how dummy features actually appear:"
   ]
  },
  {
   "cell_type": "code",
   "execution_count": null,
   "metadata": {},
   "outputs": [],
   "source": [
    "pd.get_dummies(df['House Style'], drop_first=True).head()"
   ]
  },
  {
   "cell_type": "markdown",
   "metadata": {},
   "source": [
    "We can call `pd.get_dummies()` on our entire dataset to quickly get data with all the original features and dummy variable representation of any categorical features. Let's look at some variable values."
   ]
  },
  {
   "cell_type": "code",
   "execution_count": null,
   "metadata": {},
   "outputs": [],
   "source": [
    "nbh_counts = df.Neighborhood.value_counts()\n",
    "nbh_counts"
   ]
  },
  {
   "cell_type": "markdown",
   "metadata": {},
   "source": [
    "For this category, let's map the few least-represented neighborhoods to an \"other\" category before adding the feature to our feature set and running a new benchmark."
   ]
  },
  {
   "cell_type": "code",
   "execution_count": null,
   "metadata": {},
   "outputs": [],
   "source": [
    "other_nbhs = list(nbh_counts[nbh_counts <= 8].index)\n",
    "\n",
    "other_nbhs"
   ]
  },
  {
   "cell_type": "code",
   "execution_count": null,
   "metadata": {},
   "outputs": [],
   "source": [
    "X4 = X3.copy()\n",
    "\n",
    "X4['Neighborhood'] = df['Neighborhood'].replace(other_nbhs, 'Other')\n"
   ]
  },
  {
   "cell_type": "markdown",
   "metadata": {},
   "source": [
    "#### Getting to fancier features\n",
    "\n",
    "Let's close out our introduction to feature engineering by considering a more complex type of feature that may work very nicely for certain problems. It doesn't seem to add a great deal over what we have so far, but it's a style of engineering to keep in mind for the future.\n",
    "\n",
    "We'll create features that capture where a feature value lies relative to the members of a category it belongs to. In particular, we'll calculate deviance of a row's feature value from the mean value of the category that row belongs to. This helps to capture information about a feature relative to the category's distribution, e.g. how nice a house is relative to other houses in its neighborhood or of its style.\n",
    "\n",
    "Below we define reusable code for generating features of this form, feel free to repurpose it for future feature engineering work!"
   ]
  },
  {
   "cell_type": "code",
   "execution_count": null,
   "metadata": {},
   "outputs": [],
   "source": [
    "def add_deviation_feature(X, feature, category):\n",
    "    \n",
    "    # temp groupby object\n",
    "    category_gb = X.groupby(category)[feature]\n",
    "    \n",
    "    # create category means and standard deviations for each observation\n",
    "    category_mean = category_gb.transform(lambda x: x.mean())\n",
    "    category_std = category_gb.transform(lambda x: x.std())\n",
    "    \n",
    "    # compute stds from category mean for each feature value,\n",
    "    # add to X as new feature\n",
    "    deviation_feature = (X[feature] - category_mean) / category_std \n",
    "    X[feature + '_Dev_' + category] = deviation_feature  "
   ]
  },
  {
   "cell_type": "markdown",
   "metadata": {},
   "source": [
    "And now let's use our feature generation code to add 2 new deviation features, and run a final benchmark."
   ]
  },
  {
   "cell_type": "code",
   "execution_count": null,
   "metadata": {},
   "outputs": [],
   "source": [
    "X5 = X4.copy()\n",
    "X5['House Style'] = df['House Style']\n",
    "add_deviation_feature(X5, 'Year Built', 'House Style')\n",
    "add_deviation_feature(X5, 'Overall Qual', 'Neighborhood')\n"
   ]
  },
  {
   "cell_type": "markdown",
   "metadata": {},
   "source": [
    "## Polynomial Features in Scikit-Learn\n",
    "\n",
    "`sklearn` allows you to build many higher-order terms at once with `PolynomialFeatures`"
   ]
  },
  {
   "cell_type": "code",
   "execution_count": null,
   "metadata": {},
   "outputs": [],
   "source": [
    "from sklearn.preprocessing import PolynomialFeatures"
   ]
  },
  {
   "cell_type": "code",
   "execution_count": null,
   "metadata": {},
   "outputs": [],
   "source": [
    "#Instantiate and provide desired degree; \n",
    "#   Note: degree=2 also includes intercept, degree 1 terms, and cross-terms\n",
    "\n",
    "pf = PolynomialFeatures(degree=2)"
   ]
  },
  {
   "cell_type": "code",
   "execution_count": null,
   "metadata": {},
   "outputs": [],
   "source": [
    "features = ['Lot Area', 'Overall Qual']\n",
    "pf.fit(df[features])"
   ]
  },
  {
   "cell_type": "code",
   "execution_count": null,
   "metadata": {},
   "outputs": [],
   "source": [
    "pf.get_feature_names()  #Must add input_features = features for appropriate names"
   ]
  },
  {
   "cell_type": "code",
   "execution_count": null,
   "metadata": {},
   "outputs": [],
   "source": [
    "feat_array = pf.transform(df[features])\n",
    "pd.DataFrame(feat_array, columns = pf.get_feature_names(input_features=features))"
   ]
  },
  {
   "cell_type": "markdown",
   "metadata": {},
   "source": [
    "## Recap\n",
    "\n",
    "While we haven't yet turned to prediction, these feature engineering exercises set the stage. Generally, feature engineering often follows a sort of [_Pareto principle_](https://en.wikipedia.org/wiki/Pareto_principle), where a large bulk of the predictive gains can be reached through adding a set of intuitive, strong features like polynomial transforms and interactions. Directly incorporating additional information like categorical variables can also be very helpful. Beyond this point, additional feature engineering can provide significant, but potentially diminishing returns. Whether it's worth it depends on the use case for the model. "
   ]
  },
  {
   "cell_type": "markdown",
   "metadata": {},
   "source": [
    "---\n",
    "### Machine Learning Foundation (C) 2020 IBM Corporation"
   ]
  }
 ],
 "metadata": {
  "kernelspec": {
   "display_name": "tf-pro",
   "language": "python",
   "name": "tf-pro"
  },
  "language_info": {
   "codemirror_mode": {
    "name": "ipython",
    "version": 3
   },
   "file_extension": ".py",
   "mimetype": "text/x-python",
   "name": "python",
   "nbconvert_exporter": "python",
   "pygments_lexer": "ipython3",
   "version": "3.11.5"
  }
 },
 "nbformat": 4,
 "nbformat_minor": 4
}
